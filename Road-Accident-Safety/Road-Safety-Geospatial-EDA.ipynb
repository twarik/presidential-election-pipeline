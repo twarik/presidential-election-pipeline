{
 "cells": [
  {
   "cell_type": "code",
   "execution_count": null,
   "metadata": {},
   "outputs": [],
   "source": [
    "import pandas as pd\n",
    "import numpy as np\n",
    "import warnings\n",
    "warnings.filterwarnings('ignore')\n",
    "\n",
    "df1 = pd.read_csv('dftRoadSafety_Accidents_2016.csv')\n",
    "df2 = pd.read_csv('Cas.csv')\n",
    "df3 = pd.read_csv('MakeModel2016.csv')\n",
    "\n",
    "pd.set_option('display.max_columns', None)"
   ]
  },
  {
   "cell_type": "markdown",
   "metadata": {},
   "source": [
    "# Merging the Datasets"
   ]
  },
  {
   "cell_type": "code",
   "execution_count": null,
   "metadata": {},
   "outputs": [],
   "source": [
    "df = pd.merge(df1, df2, on=['Accident_Index'])\n",
    "df.tail()"
   ]
  },
  {
   "cell_type": "code",
   "execution_count": null,
   "metadata": {},
   "outputs": [],
   "source": [
    "df_merged = pd.merge(df, df3, on=['Accident_Index'])\n",
    "df_merged.head()"
   ]
  },
  {
   "cell_type": "code",
   "execution_count": null,
   "metadata": {},
   "outputs": [],
   "source": [
    "#Create a datetime column\n",
    "df_merged['Datetime'] = df_merged['Date'] + ' ' + df_merged['Time']  + ':00'\n",
    "df_merged['Datetime'] = pd.to_datetime(df_merged['Datetime'])"
   ]
  },
  {
   "cell_type": "code",
   "execution_count": null,
   "metadata": {},
   "outputs": [],
   "source": [
    "from bokeh.plotting import figure, show, output_notebook, output_file, save\n",
    "from bokeh.models import HoverTool, ColumnDataSource, Slider, Select\n",
    "from bokeh.tile_providers import get_provider, Vendors\n",
    "from bokeh.layouts import row, column\n",
    "from bokeh.application import Application\n",
    "from bokeh.application.handlers import FunctionHandler\n",
    "output_notebook()"
   ]
  },
  {
   "cell_type": "code",
   "execution_count": null,
   "metadata": {},
   "outputs": [],
   "source": [
    "hotspots = df_merged.groupby(by=['Longitude','Latitude','Datetime']).mean()[['Number_of_Casualties','Weather_Conditions']]\n",
    "hotspots.Weather_Conditions = hotspots.Weather_Conditions.astype(int)\n",
    "hotspots['circle_sizes'] = hotspots['Number_of_Casualties'] * 20 / hotspots['Number_of_Casualties'].max()\n",
    "hotspots.reset_index(inplace=True)\n",
    "hotspots['time'] = hotspots.Datetime.dt.hour"
   ]
  },
  {
   "cell_type": "code",
   "execution_count": null,
   "metadata": {},
   "outputs": [],
   "source": [
    "def wgs84_to_web_mercator(df, lon=\"Longitude\", lat=\"Latitude\"):\n",
    "    '''\n",
    "    Function to transform coordinates from WGS84 system to Mercator coordinates\n",
    "    '''\n",
    "\n",
    "    k = 6378137\n",
    "    df[\"LON\"] = df[lon] * (k * np.pi/180.0)\n",
    "    df[\"LAT\"] = np.log(np.tan((90 + df[lat]) * np.pi/360.0)) * k\n",
    "\n",
    "    return df"
   ]
  },
  {
   "cell_type": "code",
   "execution_count": null,
   "metadata": {},
   "outputs": [],
   "source": [
    "# Tell Bokeh to use 'hotspots' as the source of the data\n",
    "data_source = ColumnDataSource(data=wgs84_to_web_mercator(hotspots))\n",
    "\n",
    "# List navigation tools\n",
    "TOOLS = 'pan,wheel_zoom,zoom_in,zoom_out,box_zoom,reset,save'\n",
    "# Create figure\n",
    "p = figure(title = 'Road Accidents hotspots location in the United Kingdon in 2016', tools = TOOLS)\n",
    "\n",
    "# instatiate the tile source provider to use for the map\n",
    "tile_provider = get_provider(Vendors.OSM)\n",
    "# add the back ground basemap\n",
    "p.add_tile(tile_provider)\n",
    "\n",
    "# Add accident points using coordinates ('Longitude' & 'Latitude')\n",
    "p.circle(x='LON',\n",
    "         y='LAT', \n",
    "         size='circle_sizes',\n",
    "         line_color=\"#FF0000\", \n",
    "         fill_color=\"#FF0000\",\n",
    "         fill_alpha=0.05, \n",
    "         source=data_source)\n",
    "\n",
    "# Set tooltips that will appear when the user hovers over a data point on our map. \n",
    "p.add_tools(HoverTool( tooltips=[\n",
    "    (\"No. of Casualties\", \"@Number_of_Casualties\"),\n",
    "    (\"(Long, Lat)\", \"(@Longitude, @Latitude)\"),\n",
    "    \n",
    "]))\n",
    "\n",
    "show(p)"
   ]
  },
  {
   "cell_type": "code",
   "execution_count": null,
   "metadata": {},
   "outputs": [],
   "source": [
    "Weather_Conditions = {'Fine no high winds' : 1, 'Raining no high winds' : 2, 'Snowing no high winds' : 3, \n",
    "                      'Fine + high winds' : 4, 'Raining + high winds' : 5, 'Snowing + high winds' : 6, \n",
    "                      'Fog or mist' : 7, 'Other' : 8, 'Unknown' : 9}\n",
    "w = [i for i in Weather_Conditions.keys()]\n",
    "\n",
    "defaultdata = hotspots[(hotspots.time == 12) & (hotspots.Weather_Conditions == 1)]\n",
    "defaultdata['circle_sizes'] = defaultdata['Number_of_Casualties'] * 20 / defaultdata['Number_of_Casualties'].max()\n",
    "\n",
    "data_source = ColumnDataSource(data=wgs84_to_web_mercator(defaultdata))\n",
    "\n",
    "output_file(\"uk_road_accidents.html\")\n",
    "# List navigation tools\n",
    "TOOLS = 'pan,wheel_zoom,zoom_in,zoom_out,box_zoom,reset,save'\n",
    "# Create figure\n",
    "p = figure(x_axis_type=\"mercator\", y_axis_type=\"mercator\", \n",
    "           title = 'Spatial distribution of accident hotspots in the United Kingdon in 2016', tools = TOOLS\n",
    "          )\n",
    "\n",
    "# Select which tiles to use for the map\n",
    "tile_provider = get_provider(Vendors.OSM)\n",
    "p.add_tile(tile_provider) # Add map tile\n",
    "\n",
    "# Add accident points using coordinates ('Longitude' & 'Latitude')\n",
    "p.circle(x='LON',\n",
    "         y='LAT', \n",
    "         size='circle_sizes',\n",
    "         line_color=\"#FF0000\", \n",
    "         fill_color=\"#FF0000\",\n",
    "         fill_alpha=0.05, \n",
    "         source=data_source)\n",
    "\n",
    "# Set tooltips that will appear when the user hovers over a data point on our map. \n",
    "p.add_tools(HoverTool( tooltips=[\n",
    "    (\"No. of Casualties\", \"@Number_of_Casualties\"),\n",
    "    (\"(Long, Lat)\", \"(@Longitude, @Latitude)\"),\n",
    "]))\n",
    "\n",
    "def update_data(hr, w, s):\n",
    "    data = hotspots[(hotspots.time == hr) & (hotspots.Weather_Conditions == w)]\n",
    "    data['circle_sizes'] = data['Number_of_Casualties'] * s / data['Number_of_Casualties'].max()\n",
    "    return data\n",
    "\n",
    "def update_plot(attr, old, new):\n",
    "    '''\n",
    "    callback function to receive data from the widget and update plot\n",
    "    '''\n",
    "    hr = timer.value\n",
    "    w = Weather_Conditions[weather.value]\n",
    "    s = size.value\n",
    "\n",
    "    new_data =  update_data(hr, w, s)\n",
    "    data_source.data = new_data\n",
    "    \n",
    "# Set up widgets\n",
    "timer = Slider(title='Time of the day',start=0,end=23,step=1,value=12)\n",
    "weather = Select(title=\"Weather Condition:\", value=\"Fine no high winds\", options=w)\n",
    "size = Slider(title=\"Zoom accident points\", start=10, end=40, step=2, value=20)\n",
    "\n",
    "\n",
    "# Set up layouts and add to document\n",
    "layout = row(p, column(timer, weather, size, width=250))\n",
    "\n",
    "def modify_doc(doc):\n",
    "    doc.add_root(row(layout, width=800))\n",
    "    #doc.title = \"Sliders\"\n",
    "    for widgets in [timer, weather, size]:\n",
    "        widgets.on_change('value', update_plot)\n",
    "\n",
    "handler = FunctionHandler(modify_doc)\n",
    "app = Application(handler)\n",
    "#save(p)\n",
    "show(app)"
   ]
  },
  {
   "cell_type": "code",
   "execution_count": null,
   "metadata": {},
   "outputs": [],
   "source": []
  }
 ],
 "metadata": {
  "kernelspec": {
   "display_name": "Python 3",
   "language": "python",
   "name": "python3"
  },
  "language_info": {
   "codemirror_mode": {
    "name": "ipython",
    "version": 3
   },
   "file_extension": ".py",
   "mimetype": "text/x-python",
   "name": "python",
   "nbconvert_exporter": "python",
   "pygments_lexer": "ipython3",
   "version": "3.7.9"
  }
 },
 "nbformat": 4,
 "nbformat_minor": 4
}
